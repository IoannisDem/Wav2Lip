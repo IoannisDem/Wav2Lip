{
 "cells": [
  {
   "cell_type": "code",
   "execution_count": 13,
   "metadata": {},
   "outputs": [],
   "source": [
    "from os import listdir, path\n",
    "import multiprocessing as mp\n",
    "from concurrent.futures import ThreadPoolExecutor, as_completed\n",
    "import numpy as np\n",
    "import argparse, os, cv2, traceback, subprocess\n",
    "from tqdm import tqdm\n",
    "from glob import glob\n",
    "import audio\n",
    "from hparams import hparams as hp\n",
    "import torch\n",
    "\n",
    "import face_detection"
   ]
  },
  {
   "cell_type": "markdown",
   "metadata": {},
   "source": [
    "## Define variables"
   ]
  },
  {
   "cell_type": "code",
   "execution_count": 36,
   "metadata": {},
   "outputs": [],
   "source": [
    "ngpu = 1\n",
    "batch_size = 32\n",
    "data_root = \"c:/Users/ioann/Desktop/projects/Github/Wav2Lip/data/wav2lip_homework/mvlrs_v1/main\"\n",
    "preprocessed_root = \"c:/Users/ioann/Desktop/projects/Github/Wav2Lip/data/preprocess\"\n"
   ]
  },
  {
   "cell_type": "code",
   "execution_count": 37,
   "metadata": {},
   "outputs": [],
   "source": [
    "# Define the parser\n",
    "parser = argparse.ArgumentParser()\n",
    "\n",
    "# Add arguments\n",
    "parser.add_argument('--ngpu', help='Number of GPUs across which to run in parallel', default=1, type=int)\n",
    "parser.add_argument('--batch_size', help='Single GPU face detection batch size', default=32, type=int)\n",
    "parser.add_argument(\"--data_root\", help=\"Root folder of the LRS2 dataset\", required=True)\n",
    "parser.add_argument(\"--preprocessed_root\", help=\"Root folder of the preprocessed dataset\", required=True)\n",
    "\n",
    "# Parse the arguments with the values\n",
    "args = parser.parse_args(args=[\"--ngpu\", str(ngpu), \n",
    "                               \"--batch_size\", str(batch_size), \n",
    "                               \"--data_root\", data_root, \n",
    "                               \"--preprocessed_root\", preprocessed_root])"
   ]
  },
  {
   "cell_type": "code",
   "execution_count": 38,
   "metadata": {},
   "outputs": [],
   "source": [
    "fa = [face_detection.FaceAlignment(face_detection.LandmarksType._2D, flip_input=False, \n",
    "\t\t\t\t\t\t\t\t\tdevice='cuda:{}'.format(id)) for id in range(ngpu)]\n",
    "\n",
    "template = 'ffmpeg -loglevel panic -y -i {} -strict -2 {}'"
   ]
  },
  {
   "cell_type": "markdown",
   "metadata": {},
   "source": [
    "## Functions"
   ]
  },
  {
   "cell_type": "code",
   "execution_count": 39,
   "metadata": {},
   "outputs": [],
   "source": [
    "def process_video_file(vfile, args, gpu_id):\n",
    "\tvideo_stream = cv2.VideoCapture(vfile)\n",
    "\t\n",
    "\tframes = []\n",
    "\twhile 1:\n",
    "\t\tstill_reading, frame = video_stream.read()\n",
    "\t\tif not still_reading:\n",
    "\t\t\tvideo_stream.release()\n",
    "\t\t\tbreak\n",
    "\t\tframes.append(frame)\n",
    "\t\n",
    "\tvidname = os.path.basename(vfile).split('.')[0]\n",
    "\tdirname = vfile.split('/')[-2]\n",
    "\n",
    "\tfulldir = path.join(args.preprocessed_root, dirname, vidname)\n",
    "\tos.makedirs(fulldir, exist_ok=True)\n",
    "\n",
    "\tbatches = [frames[i:i + args.batch_size] for i in range(0, len(frames), args.batch_size)]\n",
    "\n",
    "\ti = -1\n",
    "\tfor fb in batches:\n",
    "\t\tpreds = fa[gpu_id].get_detections_for_batch(np.asarray(fb))\n",
    "\n",
    "\t\tfor j, f in enumerate(preds):\n",
    "\t\t\ti += 1\n",
    "\t\t\tif f is None:\n",
    "\t\t\t\tcontinue\n",
    "\n",
    "\t\t\tx1, y1, x2, y2 = f\n",
    "\t\t\tcv2.imwrite(path.join(fulldir, '{}.jpg'.format(i)), fb[j][y1:y2, x1:x2])"
   ]
  },
  {
   "cell_type": "code",
   "execution_count": 40,
   "metadata": {},
   "outputs": [],
   "source": [
    "def process_audio_file(vfile, args):\n",
    "\tvidname = os.path.basename(vfile).split('.')[0]\n",
    "\tdirname = vfile.split('/')[-2]\n",
    "\n",
    "\tfulldir = path.join(args.preprocessed_root, dirname, vidname)\n",
    "\tos.makedirs(fulldir, exist_ok=True)\n",
    "\n",
    "\twavpath = path.join(fulldir, 'audio.wav')\n",
    "\n",
    "\tcommand = template.format(vfile, wavpath)\n",
    "\tsubprocess.call(command, shell=True)"
   ]
  },
  {
   "cell_type": "code",
   "execution_count": 41,
   "metadata": {},
   "outputs": [],
   "source": [
    "def mp_handler(job):\n",
    "\tvfile, args, gpu_id = job\n",
    "\ttry:\n",
    "\t\tprocess_video_file(vfile, args, gpu_id)\n",
    "\texcept KeyboardInterrupt:\n",
    "\t\texit(0)\n",
    "\texcept:\n",
    "\t\ttraceback.print_exc()"
   ]
  },
  {
   "cell_type": "markdown",
   "metadata": {},
   "source": [
    "## Main"
   ]
  },
  {
   "cell_type": "code",
   "execution_count": 42,
   "metadata": {},
   "outputs": [
    {
     "data": {
      "text/plain": [
       "1"
      ]
     },
     "execution_count": 42,
     "metadata": {},
     "output_type": "execute_result"
    }
   ],
   "source": [
    "torch.cuda.device_count()"
   ]
  },
  {
   "cell_type": "code",
   "execution_count": 43,
   "metadata": {},
   "outputs": [
    {
     "name": "stdout",
     "output_type": "stream",
     "text": [
      "Started processing for c:/Users/ioann/Desktop/projects/Github/Wav2Lip/data/wav2lip_homework/mvlrs_v1/main with 1 GPUs\n"
     ]
    }
   ],
   "source": [
    "print('Started processing for {} with {} GPUs'.format(args.data_root, args.ngpu))"
   ]
  },
  {
   "cell_type": "code",
   "execution_count": 44,
   "metadata": {},
   "outputs": [],
   "source": [
    "filelist = glob(path.join(args.data_root, '*/*.mp4'))[:10]"
   ]
  },
  {
   "cell_type": "code",
   "execution_count": 45,
   "metadata": {},
   "outputs": [],
   "source": [
    "jobs = [(vfile, args, i%args.ngpu) for i, vfile in enumerate(filelist)]"
   ]
  },
  {
   "cell_type": "code",
   "execution_count": 49,
   "metadata": {},
   "outputs": [],
   "source": [
    "p = ThreadPoolExecutor(args.ngpu)\n",
    "futures = [p.submit(mp_handler, j) for j in jobs]"
   ]
  },
  {
   "cell_type": "code",
   "execution_count": 50,
   "metadata": {},
   "outputs": [
    {
     "name": "stderr",
     "output_type": "stream",
     "text": [
      "100%|██████████| 10/10 [00:24<00:00,  2.46s/it]\n"
     ]
    }
   ],
   "source": [
    "_ = [r.result() for r in tqdm(as_completed(futures), total=len(futures))]"
   ]
  },
  {
   "cell_type": "code",
   "execution_count": 52,
   "metadata": {},
   "outputs": [
    {
     "data": {
      "text/plain": [
       "'c:/Users/ioann/Desktop/projects/Github/Wav2Lip/data/wav2lip_homework/mvlrs_v1/main\\\\5535415699068794046\\\\00001.mp4'"
      ]
     },
     "execution_count": 52,
     "metadata": {},
     "output_type": "execute_result"
    }
   ],
   "source": [
    "filelist[0]"
   ]
  },
  {
   "cell_type": "code",
   "execution_count": 51,
   "metadata": {},
   "outputs": [
    {
     "name": "stdout",
     "output_type": "stream",
     "text": [
      "Dumping audios...\n"
     ]
    },
    {
     "name": "stderr",
     "output_type": "stream",
     "text": [
      "100%|██████████| 10/10 [00:01<00:00,  9.53it/s]\n"
     ]
    }
   ],
   "source": [
    "print('Dumping audios...')\n",
    "\n",
    "for vfile in tqdm(filelist):\n",
    "    try:\n",
    "        process_audio_file(vfile, args)\n",
    "    except KeyboardInterrupt:\n",
    "        exit(0)\n",
    "    except:\n",
    "        traceback.print_exc()\n",
    "        continue"
   ]
  },
  {
   "cell_type": "code",
   "execution_count": null,
   "metadata": {},
   "outputs": [],
   "source": []
  }
 ],
 "metadata": {
  "kernelspec": {
   "display_name": "wav2lip",
   "language": "python",
   "name": "python3"
  },
  "language_info": {
   "codemirror_mode": {
    "name": "ipython",
    "version": 3
   },
   "file_extension": ".py",
   "mimetype": "text/x-python",
   "name": "python",
   "nbconvert_exporter": "python",
   "pygments_lexer": "ipython3",
   "version": "3.12.7"
  }
 },
 "nbformat": 4,
 "nbformat_minor": 2
}
